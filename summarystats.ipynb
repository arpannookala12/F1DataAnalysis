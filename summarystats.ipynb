{
 "cells": [
  {
   "cell_type": "code",
   "execution_count": 2,
   "metadata": {},
   "outputs": [
    {
     "data": {
      "text/plain": [
       "(constructor_id\n",
       " ferrari     192.081590\n",
       " mercedes    268.712891\n",
       " red_bull    335.180147\n",
       " Name: points_stand, dtype: float64,\n",
       " constructor_id\n",
       " ferrari     24.457620\n",
       " mercedes    24.291416\n",
       " red_bull    24.008175\n",
       " Name: duration, dtype: float64,\n",
       " driver_id\n",
       " bottas             4\n",
       " hamilton          30\n",
       " leclerc            4\n",
       " max_verstappen    75\n",
       " perez              7\n",
       " russell            1\n",
       " sainz              4\n",
       " dtype: int64,\n",
       " driver_id\n",
       " albon              7.103448\n",
       " bearman           11.000000\n",
       " bottas             2.839286\n",
       " hamilton           4.650794\n",
       " leclerc            5.278689\n",
       " max_verstappen     2.805970\n",
       " perez              6.798165\n",
       " russell            6.297297\n",
       " sainz              5.450549\n",
       " vettel            12.080000\n",
       " Name: position, dtype: float64)"
      ]
     },
     "execution_count": 2,
     "metadata": {},
     "output_type": "execute_result"
    }
   ],
   "source": [
    "#| label: summary\n",
    "import pandas as pd\n",
    "df = pd.read_csv('mergeddata.csv')\n",
    "# df.drop(columns='Unnamed: 0', inplace=True)\n",
    "# Filter data for years 2020 to 2024\n",
    "filtered_data = df[(df['season'] >= 2020) & (df['season'] <= 2024)]\n",
    "\n",
    "# Recalculate the requested summary statistics with the filtered data\n",
    "\n",
    "# 1. Average Points per Constructor\n",
    "average_points_per_constructor_filtered = filtered_data.groupby('constructor_id')['points_stand'].mean()\n",
    "\n",
    "# 2. Average Pit Stop Duration\n",
    "average_pit_stop_duration_filtered = filtered_data.groupby('constructor_id')['duration'].mean()\n",
    "\n",
    "# 3. Win Count per Driver\n",
    "win_count_per_driver_filtered = filtered_data[filtered_data['position_race'] == 1].groupby('driver_id').size()\n",
    "\n",
    "# 4. Average Qualifying Position per Driver\n",
    "average_qualifying_position_per_driver_filtered = filtered_data.groupby('driver_id')['position'].mean()\n",
    "\n",
    "average_points_per_constructor_filtered, average_pit_stop_duration_filtered, win_count_per_driver_filtered, average_qualifying_position_per_driver_filtered"
   ]
  }
 ],
 "metadata": {
  "kernelspec": {
   "display_name": "rasa",
   "language": "python",
   "name": "python3"
  },
  "language_info": {
   "codemirror_mode": {
    "name": "ipython",
    "version": 3
   },
   "file_extension": ".py",
   "mimetype": "text/x-python",
   "name": "python",
   "nbconvert_exporter": "python",
   "pygments_lexer": "ipython3",
   "version": "3.10.8"
  }
 },
 "nbformat": 4,
 "nbformat_minor": 2
}
