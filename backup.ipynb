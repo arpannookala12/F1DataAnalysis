{
 "cells": [
  {
   "cell_type": "code",
   "execution_count": 2,
   "metadata": {},
   "outputs": [],
   "source": [
    "import pandas as pd\n",
    "import sqlite3\n",
    "\n",
    "# Connect to SQLite database (this will create the database if it doesn't exist)\n",
    "conn = sqlite3.connect('f1_data.db')\n",
    "\n",
    "# List of CSV files and their corresponding table names in the database\n",
    "data_files = {\n",
    "    'allconstructorstandings.csv': 'Constructor_Standings',\n",
    "    'alldriverstandings.csv': 'Driver_Standings',\n",
    "    'allfastestlaps.csv': 'Fastest_Laps',\n",
    "    'allpitstops.csv': 'Pit_Stops',\n",
    "    'allqualifyingresults.csv': 'Qualifying_Results',\n",
    "    'allraceresults.csv': 'Race_Results'\n",
    "}\n",
    "\n",
    "# Load each CSV file into the corresponding table\n",
    "for file_path, table_name in data_files.items():\n",
    "    # Read the CSV file\n",
    "    df = pd.read_csv(file_path)\n",
    "    df.to_sql(table_name, conn, if_exists='replace', index=False)  # 'replace' to overwrite existing tables, 'append' to add data to existing tables\n",
    "\n",
    "conn.close()  # Close the database connection"
   ]
  },
  {
   "cell_type": "code",
   "execution_count": 3,
   "metadata": {},
   "outputs": [
    {
     "name": "stdout",
     "output_type": "stream",
     "text": [
      "    Unnamed: 0            race_name  round  position       driver_id  \\\n",
      "0            0   Bahrain Grand Prix      1         1  max_verstappen   \n",
      "1            1   Bahrain Grand Prix      1         2           perez   \n",
      "2            2   Bahrain Grand Prix      1         3           sainz   \n",
      "3            3   Bahrain Grand Prix      1         4         leclerc   \n",
      "4            4   Bahrain Grand Prix      1         5         russell   \n",
      "..         ...                  ...    ...       ...             ...   \n",
      "74          15  Japanese Grand Prix      4        16           gasly   \n",
      "75          16  Japanese Grand Prix      4        17        sargeant   \n",
      "76          17  Japanese Grand Prix      4        18            zhou   \n",
      "77          18  Japanese Grand Prix      4        19       ricciardo   \n",
      "78          19  Japanese Grand Prix      4        20           albon   \n",
      "\n",
      "   constructor_id  laps         time  points  \n",
      "0        red_bull    57  1:31:44.742      26  \n",
      "1        red_bull    57      +22.457      18  \n",
      "2         ferrari    57      +25.110      15  \n",
      "3         ferrari    57      +39.669      12  \n",
      "4        mercedes    57      +46.788      10  \n",
      "..            ...   ...          ...     ...  \n",
      "74         alpine    52         None       0  \n",
      "75       williams    52         None       0  \n",
      "76         sauber    12         None       0  \n",
      "77             rb     0         None       0  \n",
      "78       williams     0         None       0  \n",
      "\n",
      "[79 rows x 9 columns]\n"
     ]
    }
   ],
   "source": [
    "import sqlite3\n",
    "import pandas as pd\n",
    "\n",
    "# Connect to the database\n",
    "conn = sqlite3.connect('f1_data.db')\n",
    "\n",
    "# Execute a query\n",
    "query = \"SELECT * FROM Race_Results\"\n",
    "df = pd.read_sql_query(query, conn)\n",
    "\n",
    "# Print the results\n",
    "print(df)\n",
    "\n",
    "# Close the connection\n",
    "conn.close()\n"
   ]
  }
 ],
 "metadata": {
  "kernelspec": {
   "display_name": "base",
   "language": "python",
   "name": "python3"
  },
  "language_info": {
   "codemirror_mode": {
    "name": "ipython",
    "version": 3
   },
   "file_extension": ".py",
   "mimetype": "text/x-python",
   "name": "python",
   "nbconvert_exporter": "python",
   "pygments_lexer": "ipython3",
   "version": "3.11.4"
  }
 },
 "nbformat": 4,
 "nbformat_minor": 2
}
